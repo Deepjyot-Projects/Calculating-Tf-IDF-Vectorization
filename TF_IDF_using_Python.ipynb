{
  "nbformat": 4,
  "nbformat_minor": 0,
  "metadata": {
    "colab": {
      "provenance": [],
      "authorship_tag": "ABX9TyMTtNug5cn5Ti/mxjaENsB8",
      "include_colab_link": true
    },
    "kernelspec": {
      "name": "python3",
      "display_name": "Python 3"
    },
    "language_info": {
      "name": "python"
    }
  },
  "cells": [
    {
      "cell_type": "markdown",
      "metadata": {
        "id": "view-in-github",
        "colab_type": "text"
      },
      "source": [
        "<a href=\"https://colab.research.google.com/github/Deepjyot-ML-workspace/NLP-Learning/blob/main/TF_IDF_using_Python.ipynb\" target=\"_parent\"><img src=\"https://colab.research.google.com/assets/colab-badge.svg\" alt=\"Open In Colab\"/></a>"
      ]
    },
    {
      "cell_type": "code",
      "execution_count": null,
      "metadata": {
        "colab": {
          "base_uri": "https://localhost:8080/"
        },
        "id": "8coObC0X51-W",
        "outputId": "1db8c532-bd82-4978-a6bc-008d20c7bb3f"
      },
      "outputs": [
        {
          "output_type": "stream",
          "name": "stdout",
          "text": [
            "doc after is:  Id like an apple\n",
            "words is:  ['Id', 'like', 'an', 'apple']\n",
            "doc after is:  An apple a day keeps the doctor away\n",
            "words is:  ['An', 'apple', 'a', 'day', 'keeps', 'the', 'doctor', 'away']\n",
            "doc after is:  Never compare an apple to an orange\n",
            "words is:  ['Never', 'compare', 'an', 'apple', 'to', 'an', 'orange']\n",
            "doc after is:  I prefer scikitlearn to orange\n",
            "words is:  ['I', 'prefer', 'scikitlearn', 'to', 'orange']\n",
            "tfs:  [{'Id': 1, 'like': 1, 'an': 1, 'apple': 1}, {'An': 1, 'apple': 1, 'a': 1, 'day': 1, 'keeps': 1, 'the': 1, 'doctor': 1, 'away': 1}, {'Never': 1, 'compare': 1, 'an': 2, 'apple': 1, 'to': 1, 'orange': 1}, {'I': 1, 'prefer': 1, 'scikitlearn': 1, 'to': 1, 'orange': 1}]\n",
            "vocab_id is:  {'Id': 0, 'like': 1, 'an': 2, 'apple': 3, 'An': 4, 'a': 5, 'day': 6, 'keeps': 7, 'the': 8, 'doctor': 9, 'away': 10, 'Never': 11, 'compare': 12, 'to': 13, 'orange': 14, 'I': 15, 'prefer': 16, 'scikitlearn': 17}\n",
            "DF is:  {'Id': 1, 'like': 1, 'an': 2, 'apple': 3, 'An': 1, 'a': 1, 'day': 1, 'keeps': 1, 'the': 1, 'doctor': 1, 'away': 1, 'Never': 1, 'compare': 1, 'to': 2, 'orange': 2, 'I': 1, 'prefer': 1, 'scikitlearn': 1}\n",
            "Doc Vectors is:  [[0.0, 0.0, 0.0, 0.0, 0.0, 0.0, 0.0, 0.0, 0.0, 0.0, 0.0, 0.0, 0.0, 0.0, 0.0, 0.0, 0.0, 0.0], [0.0, 0.0, 0.0, 0.0, 0.0, 0.0, 0.0, 0.0, 0.0, 0.0, 0.0, 0.0, 0.0, 0.0, 0.0, 0.0, 0.0, 0.0], [0.0, 0.0, 0.0, 0.0, 0.0, 0.0, 0.0, 0.0, 0.0, 0.0, 0.0, 0.0, 0.0, 0.0, 0.0, 0.0, 0.0, 0.0], [0.0, 0.0, 0.0, 0.0, 0.0, 0.0, 0.0, 0.0, 0.0, 0.0, 0.0, 0.0, 0.0, 0.0, 0.0, 0.0, 0.0, 0.0]]\n",
            "Doc Vectors is:  [[0.34657359027997264, 0.34657359027997264, 0.17328679513998632, 0.07192051811294521, 0.0, 0.0, 0.0, 0.0, 0.0, 0.0, 0.0, 0.0, 0.0, 0.0, 0.0, 0.0, 0.0, 0.0], [0.0, 0.0, 0.0, 0.035960259056472606, 0.17328679513998632, 0.17328679513998632, 0.17328679513998632, 0.17328679513998632, 0.17328679513998632, 0.17328679513998632, 0.17328679513998632, 0.0, 0.0, 0.0, 0.0, 0.0, 0.0, 0.0], [0.0, 0.0, 0.19804205158855578, 0.04109743892168297, 0.0, 0.0, 0.0, 0.0, 0.0, 0.0, 0.0, 0.19804205158855578, 0.19804205158855578, 0.09902102579427789, 0.09902102579427789, 0.0, 0.0, 0.0], [0.0, 0.0, 0.0, 0.0, 0.0, 0.0, 0.0, 0.0, 0.0, 0.0, 0.0, 0.0, 0.0, 0.13862943611198905, 0.13862943611198905, 0.2772588722239781, 0.2772588722239781, 0.2772588722239781]]\n",
            "3\n"
          ]
        }
      ],
      "source": [
        "# Enter your code here. Read input from STDIN. Print output to STDOUT\n",
        "import sys\n",
        "import re\n",
        "import math\n",
        "\n",
        "docs = '''I'd like an apple.\n",
        "An apple a day keeps the doctor away.\n",
        "Never compare an apple to an orange.\n",
        "I prefer scikit-learn to orange.'''\n",
        "\n",
        "docs = docs.split(\"\\n\")\n",
        "\n",
        "df = {}\n",
        "tfs = []\n",
        "for doc in docs:\n",
        "    # print('doc init is: ',doc)\n",
        "    doc = re.sub(r'[^\\w^\\s]', '', doc)\n",
        "    print('doc after is: ',doc)\n",
        "    words = doc.strip('.').split(\" \")\n",
        "    print('words is: ',words)\n",
        "    seen = set()\n",
        "    tf = {}\n",
        "    for w in words:\n",
        "        if w not in df:\n",
        "            df[w] = 0\n",
        "        if w not in seen:\n",
        "            df[w] += 1\n",
        "            seen.add(w)\n",
        "        if w not in tf:\n",
        "            tf[w] = 0\n",
        "        tf[w] += 1\n",
        "    tfs.append(tf)\n",
        "print('tfs: ',tfs)\n",
        "vocab_id = {v: i for i, v in enumerate(list(df.keys()))}\n",
        "\n",
        "print('vocab_id is: ',vocab_id)\n",
        "print('DF is: ', df)\n",
        "doc_vecs = [[0. for _ in range(len(df))] for _ in range(len(docs))]\n",
        "\n",
        "print('Doc Vectors is: ',doc_vecs)\n",
        "for d in range(len(docs)):\n",
        "    doc_vec = doc_vecs[d]\n",
        "    for t, tf in tfs[d].items():\n",
        "        doc_vec[vocab_id[t]] = tf * 1.0 / sum(tfs[d].values())\n",
        "        doc_vec[vocab_id[t]] *= math.log(len(docs) * 1.0 / df[t])\n",
        "\n",
        "\n",
        "def dot(vec1, vec2):\n",
        "    ans = 0.\n",
        "    for i in range(len(vec1)):\n",
        "        ans += vec1[i] * vec2[i]\n",
        "    return ans\n",
        "    \n",
        "max_sim = -1\n",
        "max_id = -1\n",
        "\n",
        "\n",
        "print('Doc Vectors is: ',doc_vecs)\n",
        "for d in range(1, len(docs)):\n",
        "    sim = dot(doc_vecs[0], doc_vecs[d])\n",
        "    if sim > max_sim:\n",
        "        max_sim = sim\n",
        "        max_id = d\n",
        "\n",
        "print(max_id + 1)\n"
      ]
    },
    {
      "cell_type": "markdown",
      "source": [
        "## Tf-IDF score using Python"
      ],
      "metadata": {
        "id": "atLXuTtx3gi-"
      }
    },
    {
      "cell_type": "markdown",
      "source": [
        "### Prepare Docs"
      ],
      "metadata": {
        "id": "-xorDPcA3uFo"
      }
    },
    {
      "cell_type": "code",
      "source": [
        "import sys\n",
        "import re\n",
        "import math\n",
        "\n",
        "docs = '''I'd like an apple.\n",
        "An apple a day keeps the doctor away.\n",
        "Never compare an apple to an orange.\n",
        "I prefer scikit-learn to orange.'''\n",
        "\n",
        "docs = docs.split(\"\\n\")\n",
        "\n",
        "for i,doc in enumerate(docs):\n",
        "    # print('doc init is: ',doc)\n",
        "    docs[i] = re.sub(r'[^\\w^\\s]', '', doc)\n",
        "\n",
        "\n",
        "print(docs)"
      ],
      "metadata": {
        "colab": {
          "base_uri": "https://localhost:8080/"
        },
        "id": "uekEn_Xb3f4H",
        "outputId": "dfb9585b-2ffc-4d28-b888-d4c3b2be93e3"
      },
      "execution_count": 7,
      "outputs": [
        {
          "output_type": "stream",
          "name": "stdout",
          "text": [
            "['Id like an apple', 'An apple a day keeps the doctor away', 'Never compare an apple to an orange', 'I prefer scikitlearn to orange']\n"
          ]
        }
      ]
    },
    {
      "cell_type": "markdown",
      "source": [
        "### calculate term frequencies and document-frequency."
      ],
      "metadata": {
        "id": "vx4Cffj66j3G"
      }
    },
    {
      "cell_type": "code",
      "source": [
        "from collections import defaultdict\n",
        "\n",
        "#document frequency\n",
        "df = defaultdict(int)\n",
        "\n",
        "# term frequncies\n",
        "tfs = []\n",
        "\n",
        "\n",
        "for document in docs:\n",
        "  words = document.strip('.').split(\" \")\n",
        "  tf = defaultdict(int)\n",
        "  for w in words:\n",
        "     \n",
        "    if w not in tf:\n",
        "      df[w] += 1\n",
        "    tf[w] += 1\n",
        "\n",
        "  tfs.append(tf)\n",
        "\n",
        "print('TFS: ', tfs)\n",
        "print('DF: ', df)\n",
        "print('DF[i',df['Id'])\n",
        "\n",
        "\n"
      ],
      "metadata": {
        "colab": {
          "base_uri": "https://localhost:8080/"
        },
        "id": "j5cyaktj6jQr",
        "outputId": "ab90fbfe-d30c-4dda-f64f-672f30173a0f"
      },
      "execution_count": 35,
      "outputs": [
        {
          "output_type": "stream",
          "name": "stdout",
          "text": [
            "TFS:  [defaultdict(<class 'int'>, {'Id': 1, 'like': 1, 'an': 1, 'apple': 1}), defaultdict(<class 'int'>, {'An': 1, 'apple': 1, 'a': 1, 'day': 1, 'keeps': 1, 'the': 1, 'doctor': 1, 'away': 1}), defaultdict(<class 'int'>, {'Never': 1, 'compare': 1, 'an': 2, 'apple': 1, 'to': 1, 'orange': 1}), defaultdict(<class 'int'>, {'I': 1, 'prefer': 1, 'scikitlearn': 1, 'to': 1, 'orange': 1})]\n",
            "DF:  defaultdict(<class 'int'>, {'Id': 1, 'like': 1, 'an': 2, 'apple': 3, 'An': 1, 'a': 1, 'day': 1, 'keeps': 1, 'the': 1, 'doctor': 1, 'away': 1, 'Never': 1, 'compare': 1, 'to': 2, 'orange': 2, 'I': 1, 'prefer': 1, 'scikitlearn': 1})\n",
            "DF[i 1\n"
          ]
        }
      ]
    },
    {
      "cell_type": "markdown",
      "source": [
        "### Create Vocab"
      ],
      "metadata": {
        "id": "2NExdfJdAeF2"
      }
    },
    {
      "cell_type": "code",
      "source": [
        "vocab_id = {v: i for i, v in enumerate(df.keys())}\n",
        "\n",
        "print(vocab_id)"
      ],
      "metadata": {
        "colab": {
          "base_uri": "https://localhost:8080/"
        },
        "id": "vjpUeqlG7Nkf",
        "outputId": "0076ea9b-b4e3-491c-bb08-697a9f4cb962"
      },
      "execution_count": 36,
      "outputs": [
        {
          "output_type": "stream",
          "name": "stdout",
          "text": [
            "{'Id': 0, 'like': 1, 'an': 2, 'apple': 3, 'An': 4, 'a': 5, 'day': 6, 'keeps': 7, 'the': 8, 'doctor': 9, 'away': 10, 'Never': 11, 'compare': 12, 'to': 13, 'orange': 14, 'I': 15, 'prefer': 16, 'scikitlearn': 17}\n"
          ]
        }
      ]
    },
    {
      "cell_type": "markdown",
      "source": [
        "# Docs Vec ( Tf - Idf )"
      ],
      "metadata": {
        "id": "7rxE7uRzA8YW"
      }
    },
    {
      "cell_type": "code",
      "source": [
        "# dimension: no of docs x all words\n",
        "\n",
        "docs_vec = [[0. for _ in range(len(vocab_id))] for _ in range(len(docs))]\n",
        "\n",
        "rows  = len(docs_vec)\n",
        "cols = len(docs_vec[0])\n",
        "\n",
        "print('Rows, ',rows,' cols: ',cols)"
      ],
      "metadata": {
        "id": "Hw7AIdsy5_Ap",
        "colab": {
          "base_uri": "https://localhost:8080/"
        },
        "outputId": "b01df294-2de6-4ed5-9b66-1f86d44bfefa"
      },
      "execution_count": 37,
      "outputs": [
        {
          "output_type": "stream",
          "name": "stdout",
          "text": [
            "Rows,  4  cols:  18\n"
          ]
        }
      ]
    },
    {
      "cell_type": "code",
      "source": [
        "\"\"\"\n",
        "Populate Tf-IDF vector: docs_vec\n",
        "\n",
        "Formuala: \n",
        "(Term-Frequncy/sum of all terms) * loge(total documents/no of docs with term)\n",
        "\"\"\"\n",
        "import math\n",
        "\n",
        "for d in range(len(docs)):\n",
        "  doc_vec  = docs_vec[d]\n",
        "  for t,tf in tfs[d].items():\n",
        "    # print(\"t is: \",t)\n",
        "    doc_vec[vocab_id[t]] = (tf*1.0)/sum(tfs[d].values())\n",
        "    # print('df[t]: ', df[t])\n",
        "    doc_vec[vocab_id[t]] *= math.log(len(docs)*1.0 / df[t])"
      ],
      "metadata": {
        "colab": {
          "base_uri": "https://localhost:8080/"
        },
        "id": "cOgXMm5IDdrt",
        "outputId": "b9b84504-f55d-4587-f0e1-e506c6622b99"
      },
      "execution_count": 38,
      "outputs": [
        {
          "output_type": "stream",
          "name": "stdout",
          "text": [
            "t is:  Id\n",
            "df[t]:  1\n",
            "t is:  like\n",
            "df[t]:  1\n",
            "t is:  an\n",
            "df[t]:  2\n",
            "t is:  apple\n",
            "df[t]:  3\n",
            "t is:  An\n",
            "df[t]:  1\n",
            "t is:  apple\n",
            "df[t]:  3\n",
            "t is:  a\n",
            "df[t]:  1\n",
            "t is:  day\n",
            "df[t]:  1\n",
            "t is:  keeps\n",
            "df[t]:  1\n",
            "t is:  the\n",
            "df[t]:  1\n",
            "t is:  doctor\n",
            "df[t]:  1\n",
            "t is:  away\n",
            "df[t]:  1\n",
            "t is:  Never\n",
            "df[t]:  1\n",
            "t is:  compare\n",
            "df[t]:  1\n",
            "t is:  an\n",
            "df[t]:  2\n",
            "t is:  apple\n",
            "df[t]:  3\n",
            "t is:  to\n",
            "df[t]:  2\n",
            "t is:  orange\n",
            "df[t]:  2\n",
            "t is:  I\n",
            "df[t]:  1\n",
            "t is:  prefer\n",
            "df[t]:  1\n",
            "t is:  scikitlearn\n",
            "df[t]:  1\n",
            "t is:  to\n",
            "df[t]:  2\n",
            "t is:  orange\n",
            "df[t]:  2\n"
          ]
        }
      ]
    },
    {
      "cell_type": "code",
      "source": [
        "import pandas as pd\n",
        "\n",
        "col_names = vocab_id.keys()\n",
        "row_names = []\n",
        "\n",
        "for i, d in enumerate(docs):\n",
        "  row_names.append( f\"D{i}\" )\n",
        "# for w,wid in \n",
        "df2 = pd.DataFrame(docs_vec, columns=col_names, index=row_names)\n",
        "\n",
        "\n",
        "print(df2)"
      ],
      "metadata": {
        "colab": {
          "base_uri": "https://localhost:8080/"
        },
        "id": "k0O6iUfzHN2A",
        "outputId": "0ca63eeb-bd19-49be-83a7-e201b5e441d6"
      },
      "execution_count": 39,
      "outputs": [
        {
          "output_type": "stream",
          "name": "stdout",
          "text": [
            "          Id      like        an     apple        An         a       day  \\\n",
            "D0  0.346574  0.346574  0.173287  0.071921  0.000000  0.000000  0.000000   \n",
            "D1  0.000000  0.000000  0.000000  0.035960  0.173287  0.173287  0.173287   \n",
            "D2  0.000000  0.000000  0.198042  0.041097  0.000000  0.000000  0.000000   \n",
            "D3  0.000000  0.000000  0.000000  0.000000  0.000000  0.000000  0.000000   \n",
            "\n",
            "       keeps       the    doctor      away     Never   compare        to  \\\n",
            "D0  0.000000  0.000000  0.000000  0.000000  0.000000  0.000000  0.000000   \n",
            "D1  0.173287  0.173287  0.173287  0.173287  0.000000  0.000000  0.000000   \n",
            "D2  0.000000  0.000000  0.000000  0.000000  0.198042  0.198042  0.099021   \n",
            "D3  0.000000  0.000000  0.000000  0.000000  0.000000  0.000000  0.138629   \n",
            "\n",
            "      orange         I    prefer  scikitlearn  \n",
            "D0  0.000000  0.000000  0.000000     0.000000  \n",
            "D1  0.000000  0.000000  0.000000     0.000000  \n",
            "D2  0.099021  0.000000  0.000000     0.000000  \n",
            "D3  0.138629  0.277259  0.277259     0.277259  \n"
          ]
        }
      ]
    },
    {
      "cell_type": "code",
      "source": [],
      "metadata": {
        "id": "GfNr5BO0IuZt"
      },
      "execution_count": null,
      "outputs": []
    }
  ]
}